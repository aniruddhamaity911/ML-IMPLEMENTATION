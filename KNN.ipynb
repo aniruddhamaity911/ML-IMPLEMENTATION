{
 "cells": [
  {
   "cell_type": "code",
   "execution_count": 3,
   "metadata": {},
   "outputs": [],
   "source": [
    "import tensorflow as tf\n",
    "import numpy as np\n",
    "import pandas as pd"
   ]
  },
  {
   "cell_type": "markdown",
   "metadata": {},
   "source": [
    "Here We are implementing <b>KNN</b> based on some similarity measure<br>\n",
    "There are many <b>similary measures</b> which are used to calculate the similarity between two data points.<br>\n",
    "- <b>Similarity Measures between two pints $X_i$ and $X_j$ are</b>\n",
    "    * Euclidian Distance $= \\sqrt(X_i - X_j)^2$\n",
    "    * Cosine similarity $= (X_i * X_j)\\big/(||X_i||*||X_j||)$\n",
    "    * so on"
   ]
  },
  {
   "cell_type": "code",
   "execution_count": 126,
   "metadata": {},
   "outputs": [],
   "source": [
    "def euclianDistance(X,Q,Y):\n",
    "    '''calculate Euclian distance'''\n",
    "    X = tf.subtract(X,Q)\n",
    "    X = tf.multiply(X,X)\n",
    "    X = tf.reduce_sum(X,axis=1,keepdims=True)\n",
    "    dis = tf.sqrt(X)\n",
    "    Z = tf.concat((dis,Y),axis=1)\n",
    "    return Z\n",
    "\n",
    "def cosineDistance(X,Q,Y):\n",
    "    p = tf.matmul(X,tf.transpose(Q))\n",
    "    q = tf.linalg.norm(X,keepdims=True)*tf.linalg.norm(Q,keepdims=True)\n",
    "    dis = 1.0 - tf.divide(p,q)\n",
    "    Z = tf.concat((dis,Y),axis=1)\n",
    "    return Z"
   ]
  },
  {
   "cell_type": "code",
   "execution_count": 127,
   "metadata": {},
   "outputs": [],
   "source": [
    "from sklearn.datasets import load_iris\n",
    "data = load_iris()\n",
    "df = pd.DataFrame(data=data.data,columns=data.feature_names)\n",
    "df['terget'] = data.target\n",
    "t = np.where(df['terget']==2,0,df['terget'],)\n",
    "X = df.iloc[:-1,:-1]\n",
    "X = (X - X.mean())/X.std()\n",
    "Y = pd.DataFrame(data=t[:-1],columns=['label'])\n",
    "Y = np.float64(Y)"
   ]
  },
  {
   "cell_type": "code",
   "execution_count": 128,
   "metadata": {},
   "outputs": [],
   "source": [
    "X = tf.constant(X)\n",
    "Y = tf.constant(Y,dtype='float64')"
   ]
  },
  {
   "cell_type": "code",
   "execution_count": 129,
   "metadata": {},
   "outputs": [],
   "source": [
    "Q = tf.constant(df.iloc[-1,:-1],shape=(1,4))"
   ]
  },
  {
   "cell_type": "code",
   "execution_count": 130,
   "metadata": {},
   "outputs": [],
   "source": [
    "def predict(X, Y, Q, distnace=euclianDistance,k=2):\n",
    "    '''\n",
    "    X = training data\n",
    "    Y = training labels\n",
    "    Q = query point\n",
    "    distance = any distance measure function that takes input (X,Y,Q) and return\n",
    "    a tensor dim nX2, as first column represents the distance\n",
    "    from the quey to sample at i th instance and 2nd column represent labels \n",
    "    of the corresponding sample. \n",
    "    k = k value for knn(2)\n",
    "    '''\n",
    "    dis = distnace(X,Q,Y)\n",
    "    dis = tf.gather(dis, tf.argsort(dis[:,0]))\n",
    "    return tf.reduce_max(dis[:k,1],keepdims=True)"
   ]
  },
  {
   "cell_type": "code",
   "execution_count": 135,
   "metadata": {},
   "outputs": [],
   "source": [
    "dis = cosineDistance\n",
    "Y_hat = predict(X,Y,Q,distnace=dis)"
   ]
  },
  {
   "cell_type": "code",
   "execution_count": 139,
   "metadata": {},
   "outputs": [
    {
     "data": {
      "text/plain": [
       "<tf.Tensor: shape=(1,), dtype=bool, numpy=array([ True])>"
      ]
     },
     "execution_count": 139,
     "metadata": {},
     "output_type": "execute_result"
    }
   ],
   "source": [
    "Y_hat == Y[-1]"
   ]
  },
  {
   "cell_type": "markdown",
   "metadata": {},
   "source": [
    "# THE END"
   ]
  }
 ],
 "metadata": {
  "kernelspec": {
   "display_name": "Python 3",
   "language": "python",
   "name": "python3"
  },
  "language_info": {
   "codemirror_mode": {
    "name": "ipython",
    "version": 3
   },
   "file_extension": ".py",
   "mimetype": "text/x-python",
   "name": "python",
   "nbconvert_exporter": "python",
   "pygments_lexer": "ipython3",
   "version": "3.8.5"
  }
 },
 "nbformat": 4,
 "nbformat_minor": 4
}
