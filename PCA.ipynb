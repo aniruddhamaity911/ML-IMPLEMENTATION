{
 "cells": [
  {
   "cell_type": "markdown",
   "metadata": {},
   "source": [
    "# IMPLEMENTATION OF PCA"
   ]
  },
  {
   "cell_type": "code",
   "execution_count": 22,
   "metadata": {},
   "outputs": [],
   "source": [
    "import numpy as np\n",
    "from sklearn.datasets import load_boston"
   ]
  },
  {
   "cell_type": "code",
   "execution_count": 23,
   "metadata": {},
   "outputs": [],
   "source": [
    "df = load_boston()\n",
    "x = df.data\n",
    "y = df.target"
   ]
  },
  {
   "cell_type": "code",
   "execution_count": 24,
   "metadata": {},
   "outputs": [],
   "source": [
    "X_train = X[:300,:]\n",
    "X_test = X[300:,:]"
   ]
  },
  {
   "cell_type": "raw",
   "metadata": {},
   "source": [
    "STEPS:-\n",
    "   1. INPUT DATA SET X[N x M] WHERE N = NUMBER OF INSTANCES AND M = NUMBER OF FEATURES.\n",
    "   2. COMPUTE MEAN OF THE FEATURES μ.\n",
    "   3. COMPUTE COVARIANCE MATRIX :-\n",
    "           COV = (X - μ).T * (X - μ)\n",
    "           COV[M x M]\n",
    "   4. COMPUTE EIGEN VALUES OF COV MATRIX.\n",
    "   5. SORT BY EIGEN VALUES IN DESCENDING OREDER.\n",
    "   6. TAKE FIRST K(K < M) EIGEN VALUES\n",
    "   7. FOR EACH K EIGEN VALUES:-\n",
    "           FIND CORROSPONDING EIGEN VECTOR,\n",
    "      MERGE THEM TO FORM A EIG MATRIX[M x K].\n",
    "\n",
    "   8. COMPUTER NEW FEATURE VECTOR:\n",
    "              X_NEW = X * EIG\n",
    "              X_NEW = [N x K]"
   ]
  },
  {
   "cell_type": "code",
   "execution_count": 25,
   "metadata": {},
   "outputs": [],
   "source": [
    "class PCA(object):\n",
    "    \n",
    "    def __init__(self,components = 1):\n",
    "        self.mean = None\n",
    "        self.eig = None\n",
    "        self.components = components\n",
    "    def fit(self,X):\n",
    "        self.mean = np.mean(X,axis=0,keepdims=True)\n",
    "        X = np.subtract(X,self.mean)\n",
    "        cov = np.matmul(X.T,X) / (X.shape[0] - 1)\n",
    "        temp, self.eig = np.linalg.eig(cov)\n",
    "        self.eig = self.eig[:,:self.components]\n",
    "    def transform(self, X):\n",
    "        return np.matmul((X - self.mean),self.eig)"
   ]
  },
  {
   "cell_type": "code",
   "execution_count": 31,
   "metadata": {},
   "outputs": [],
   "source": [
    "a = PCA(components=2)\n",
    "a.fit(X_train)\n",
    "X_new = a.transform(X_test)"
   ]
  }
 ],
 "metadata": {
  "kernelspec": {
   "display_name": "Python 3",
   "language": "python",
   "name": "python3"
  },
  "language_info": {
   "codemirror_mode": {
    "name": "ipython",
    "version": 3
   },
   "file_extension": ".py",
   "mimetype": "text/x-python",
   "name": "python",
   "nbconvert_exporter": "python",
   "pygments_lexer": "ipython3",
   "version": "3.8.5"
  }
 },
 "nbformat": 4,
 "nbformat_minor": 4
}
