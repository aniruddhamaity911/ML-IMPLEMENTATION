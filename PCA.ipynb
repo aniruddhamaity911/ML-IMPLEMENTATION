{
 "cells": [
  {
   "cell_type": "markdown",
   "metadata": {},
   "source": [
    "# IMPLEMENTATION OF PCA"
   ]
  },
  {
   "cell_type": "code",
   "execution_count": 22,
   "metadata": {},
   "outputs": [],
   "source": [
    "import numpy as np\n",
    "from sklearn.datasets import load_boston"
   ]
  },
  {
   "cell_type": "code",
   "execution_count": 23,
   "metadata": {},
   "outputs": [],
   "source": [
    "df = load_boston()\n",
    "x = df.data\n",
    "y = df.target"
   ]
  },
  {
   "cell_type": "code",
   "execution_count": 24,
   "metadata": {},
   "outputs": [],
   "source": [
    "X_train = X[:300,:]\n",
    "X_test = X[300:,:]"
   ]
  },
  {
   "cell_type": "markdown",
   "metadata": {},
   "source": [
    "<h1>STEPS:-</h1><br>\n",
    "   <h3>1. INPUT DATA SET $X[N x M]$ WHERE $N$ = NUMBER OF INSTANCES AND $M$ = NUMBER OF FEATURES.</h3><br>\n",
    "   \n",
    "   \n",
    "   <h3>2. COMPUTE MEAN OF THE FEATURES $μ$.</h3><br>\n",
    "   \n",
    "   <h3>3. COMPUTE COVARIANCE MATRIX :-</h3><br>\n",
    "   <blockquote>\n",
    "   <h3>$COV = (X - μ).T * (X - μ)$</h3><br>        \n",
    "   <h3>$COV[M x M]$</h3><br>\n",
    "   </blockquote>\n",
    "           \n",
    "   <h3>4. COMPUTE EIGEN VALUES OF COV MATRIX.</h3><br>\n",
    "   \n",
    "   <h3>5. SORT BY EIGEN VALUES IN DESCENDING OREDER.</h3><br>\n",
    "   \n",
    "   <h3>6. TAKE FIRST $K(K < M)$ EIGEN VALUES.</h3><br>\n",
    "   \n",
    "   <h3>7. FOR EACH $K$ EIGEN VALUES:-</h3><br>\n",
    "   <blockquote>\n",
    "   <h4>FIND CORROSPONDING EIGEN VECTOR.</h4><br>    \n",
    "   <h4>MERGE THEM TO FORM A $eig$ MATRIX[M x K].</h4><br>\n",
    "   </blockquote>\n",
    "   <h3>8. COMPUTER NEW FEATURE VECTOR:</h3><br>\n",
    "   <blockquote>\n",
    "   <h4>$X_{NEW} = X * eig$</h4><br>\n",
    "   <h4>$X_{NEW} : [N x K]$</h4><br>\n",
    "   </blockquote>"
   ]
  },
  {
   "cell_type": "code",
   "execution_count": 25,
   "metadata": {},
   "outputs": [],
   "source": [
    "class PCA(object):\n",
    "    \n",
    "    def __init__(self,components = 1):\n",
    "        self.mean = None\n",
    "        self.eig = None\n",
    "        self.components = components\n",
    "    def fit(self,X):\n",
    "        self.mean = np.mean(X,axis=0,keepdims=True)\n",
    "        X = np.subtract(X,self.mean)\n",
    "        cov = np.matmul(X.T,X) / (X.shape[0] - 1)\n",
    "        temp, self.eig = np.linalg.eig(cov)\n",
    "        self.eig = self.eig[:,:self.components]\n",
    "    def transform(self, X):\n",
    "        return np.matmul((X - self.mean),self.eig)"
   ]
  },
  {
   "cell_type": "code",
   "execution_count": 31,
   "metadata": {},
   "outputs": [],
   "source": [
    "a = PCA(components=2)\n",
    "a.fit(X_train)\n",
    "X_new = a.transform(X_test)"
   ]
  }
 ],
 "metadata": {
  "kernelspec": {
   "display_name": "Python 3",
   "language": "python",
   "name": "python3"
  },
  "language_info": {
   "codemirror_mode": {
    "name": "ipython",
    "version": 3
   },
   "file_extension": ".py",
   "mimetype": "text/x-python",
   "name": "python",
   "nbconvert_exporter": "python",
   "pygments_lexer": "ipython3",
   "version": "3.8.5"
  }
 },
 "nbformat": 4,
 "nbformat_minor": 4
}
